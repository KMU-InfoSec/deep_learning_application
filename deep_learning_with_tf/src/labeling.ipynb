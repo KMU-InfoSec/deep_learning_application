{
 "cells": [
  {
   "cell_type": "code",
   "execution_count": 14,
   "metadata": {},
   "outputs": [],
   "source": [
    "# token name = 1234\n",
    "\n",
    "label_dict = dict()\n",
    "import csv\n",
    "\n",
    "base_path = r'D:\\working_board\\dataset_kisa'\n",
    "with open(os.path.join(base_path, 'label.csv'), 'r', encoding='utf-8') as f:\n",
    "    rdr = csv.reader(f)\n",
    "    for i, line in enumerate(rdr):\n",
    "        md5, no_label = os.path.splitext(line[0])[0], int(line[1])\n",
    "        label_dict[md5] = no_label\n",
    "        # print(i, md5, no_label)"
   ]
  },
  {
   "cell_type": "code",
   "execution_count": 15,
   "metadata": {
    "collapsed": false
   },
   "outputs": [
    {
     "ename": "KeyError",
     "evalue": "'000076ee141c65eff54235276b7adfa8'",
     "traceback": [
      "\u001b[1;31m---------------------------------------------------------------------------\u001b[0m",
      "\u001b[1;31mKeyError\u001b[0m                                  Traceback (most recent call last)",
      "\u001b[1;32m<ipython-input-15-ca5ab3bd37da>\u001b[0m in \u001b[0;36m<module>\u001b[1;34m()\u001b[0m\n\u001b[0;32m     14\u001b[0m         \u001b[1;32mfor\u001b[0m \u001b[0mfile\u001b[0m \u001b[1;32min\u001b[0m \u001b[0mfiles\u001b[0m\u001b[1;33m:\u001b[0m\u001b[1;33m\u001b[0m\u001b[0m\n\u001b[0;32m     15\u001b[0m             \u001b[0mmd5\u001b[0m \u001b[1;33m=\u001b[0m \u001b[0mos\u001b[0m\u001b[1;33m.\u001b[0m\u001b[0mpath\u001b[0m\u001b[1;33m.\u001b[0m\u001b[0msplitext\u001b[0m\u001b[1;33m(\u001b[0m\u001b[0mfile\u001b[0m\u001b[1;33m)\u001b[0m\u001b[1;33m[\u001b[0m\u001b[1;36m0\u001b[0m\u001b[1;33m]\u001b[0m\u001b[1;33m\u001b[0m\u001b[0m\n\u001b[1;32m---> 16\u001b[1;33m             \u001b[0mlabel\u001b[0m \u001b[1;33m=\u001b[0m \u001b[0mlabel_dict\u001b[0m\u001b[1;33m[\u001b[0m\u001b[0mmd5\u001b[0m\u001b[1;33m]\u001b[0m\u001b[1;33m\u001b[0m\u001b[0m\n\u001b[0m\u001b[0;32m     17\u001b[0m             \u001b[1;32mif\u001b[0m \u001b[0mlabel\u001b[0m \u001b[1;33m==\u001b[0m \u001b[1;36m0\u001b[0m\u001b[1;33m:\u001b[0m  \u001b[1;31m# benignware\u001b[0m\u001b[1;33m\u001b[0m\u001b[0m\n\u001b[0;32m     18\u001b[0m                 \u001b[0mdst_path\u001b[0m \u001b[1;33m=\u001b[0m \u001b[0mdst_ben_path\u001b[0m\u001b[1;33m\u001b[0m\u001b[0m\n",
      "\u001b[1;31mKeyError\u001b[0m: '000076ee141c65eff54235276b7adfa8'"
     ],
     "output_type": "error"
    }
   ],
   "source": [
    "# file moving\n",
    "import os\n",
    "\n",
    "dst_mal_path = r'D:\\working_board\\dataset_kisa\\malware\\fh_bovc\\4096'\n",
    "dst_ben_path = r'D:\\working_board\\dataset_kisa\\benignware\\fh_bovc\\4096'\n",
    "if not os.path.exists(dst_mal_path):\n",
    "    os.makedirs(dst_mal_path)\n",
    "if not os.path.exists(dst_ben_path):\n",
    "    os.makedirs(dst_ben_path)\n",
    "\n",
    "base_path = r'D:\\working_board\\dataset_kisa\\fh_bovc\\4096'\n",
    "for path, dirs, files in os.walk(base_path):\n",
    "    if len(dirs) == 0:\n",
    "        for file in files:\n",
    "            md5 = os.path.splitext(file)[0]\n",
    "            try:\n",
    "                label = label_dict[md5]\n",
    "            except:\n",
    "                print(md5)\n",
    "                continue\n",
    "            if label == 0:  # benignware\n",
    "                dst_path = dst_ben_path\n",
    "            else:\n",
    "                dst_path = dst_mal_path\n",
    "                \n",
    "            os.rename(os.path.join(path, file), os.path.join(dst_path, file))"
   ]
  },
  {
   "cell_type": "code",
   "execution_count": null,
   "metadata": {},
   "outputs": [],
   "source": []
  }
 ],
 "metadata": {
  "kernelspec": {
   "display_name": "Python 2",
   "language": "python",
   "name": "python2"
  },
  "language_info": {
   "codemirror_mode": {
    "name": "ipython",
    "version": 2
   },
   "file_extension": ".py",
   "mimetype": "text/x-python",
   "name": "python",
   "nbconvert_exporter": "python",
   "pygments_lexer": "ipython2",
   "version": "2.7.6"
  }
 },
 "nbformat": 4,
 "nbformat_minor": 0
}
